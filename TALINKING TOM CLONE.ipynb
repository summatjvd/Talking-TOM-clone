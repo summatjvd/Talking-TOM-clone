{
 "cells": [
  {
   "cell_type": "code",
   "execution_count": 64,
   "id": "b29fd589",
   "metadata": {},
   "outputs": [],
   "source": [
    "import urllib.request\n",
    "from pydub import AudioSegment\n",
    "from pydub.playback import play\n",
    "from playsound import playsound"
   ]
  },
  {
   "cell_type": "code",
   "execution_count": 65,
   "id": "ae771ffd",
   "metadata": {},
   "outputs": [],
   "source": [
    "wav_file = AudioSegment.from_file(file = \"mixkit-male-saying-no-342.wav\", \n",
    "                                  format = \"wav\") "
   ]
  },
  {
   "cell_type": "code",
   "execution_count": 66,
   "id": "0b689057",
   "metadata": {},
   "outputs": [],
   "source": [
    "octaves = 0.3\n",
    "\n",
    "new_sample_rate = int(wav_file.frame_rate * (2.0 ** octaves))"
   ]
  },
  {
   "cell_type": "code",
   "execution_count": 67,
   "id": "c780a0ae",
   "metadata": {},
   "outputs": [],
   "source": [
    "hipitch_sound = wav_file._spawn(wav_file.raw_data, overrides={'frame_rate': new_sample_rate})"
   ]
  },
  {
   "cell_type": "code",
   "execution_count": 68,
   "id": "9fff13f4",
   "metadata": {},
   "outputs": [],
   "source": [
    "hipitch_sound = hipitch_sound.set_frame_rate(44100)\n",
    "\n",
    "#Play pitch changed sound\n",
    "\n",
    "#export / save pitch changed sound\n",
    "hipitch_sound.export(\"output_pitch.wav\", format=\"wav\")\n",
    "\n",
    "playsound('output_pitch.wav')"
   ]
  },
  {
   "cell_type": "code",
   "execution_count": null,
   "id": "9bf257e1",
   "metadata": {},
   "outputs": [],
   "source": []
  },
  {
   "cell_type": "code",
   "execution_count": null,
   "id": "a0d849f5",
   "metadata": {},
   "outputs": [],
   "source": []
  },
  {
   "cell_type": "code",
   "execution_count": null,
   "id": "6fca91f5",
   "metadata": {},
   "outputs": [],
   "source": []
  }
 ],
 "metadata": {
  "kernelspec": {
   "display_name": "Python 3 (ipykernel)",
   "language": "python",
   "name": "python3"
  },
  "language_info": {
   "codemirror_mode": {
    "name": "ipython",
    "version": 3
   },
   "file_extension": ".py",
   "mimetype": "text/x-python",
   "name": "python",
   "nbconvert_exporter": "python",
   "pygments_lexer": "ipython3",
   "version": "3.9.7"
  }
 },
 "nbformat": 4,
 "nbformat_minor": 5
}
